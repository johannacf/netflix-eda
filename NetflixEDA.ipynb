{
 "cells": [
  {
   "cell_type": "markdown",
   "id": "39829d31",
   "metadata": {},
   "source": [
    "# Personal Project - Netflix Daily Top Ten"
   ]
  },
  {
   "cell_type": "markdown",
   "id": "d0142801",
   "metadata": {},
   "source": [
    "I found a dataset on Kaggle with daily top ten data for Netflix content in the United States from 2020 to 2022. I know that I watched a lot more Netflix in lockdown, so I thought it would be interesting to explore the dataset to draw insights about what Americans were watching during this time while practicing my data analysis skills. \n",
    "\n",
    "Here is the Kaggle link: https://www.kaggle.com/datasets/prasertk/netflix-daily-top-10-in-us"
   ]
  },
  {
   "cell_type": "markdown",
   "id": "eb847d49",
   "metadata": {},
   "source": [
    "Info about the dataset from the source:\n",
    "\"The Days in Top 10 column shows the total days this program has been in the top 10, not necessarily consecutively. The Viewership Score is a score assigned to each show based on its historical daily ranking, assigning 10 points for each no. 1 ranking, 9 points for each no. 2 ranking etc\""
   ]
  },
  {
   "cell_type": "code",
   "execution_count": 1,
   "id": "89fae138",
   "metadata": {},
   "outputs": [],
   "source": [
    "# import necessary libraries\n",
    "import pandas as pd\n",
    "import numpy as np\n",
    "import seaborn as sns\n",
    "import matplotlib.pyplot as plt"
   ]
  },
  {
   "cell_type": "code",
   "execution_count": 2,
   "id": "b3988429",
   "metadata": {},
   "outputs": [],
   "source": [
    "# create the dataframe\n",
    "df = pd.read_csv(\"netflix daily top 10.csv\")"
   ]
  },
  {
   "cell_type": "code",
   "execution_count": 3,
   "id": "2a68cc84",
   "metadata": {},
   "outputs": [
    {
     "data": {
      "text/html": [
       "<div>\n",
       "<style scoped>\n",
       "    .dataframe tbody tr th:only-of-type {\n",
       "        vertical-align: middle;\n",
       "    }\n",
       "\n",
       "    .dataframe tbody tr th {\n",
       "        vertical-align: top;\n",
       "    }\n",
       "\n",
       "    .dataframe thead th {\n",
       "        text-align: right;\n",
       "    }\n",
       "</style>\n",
       "<table border=\"1\" class=\"dataframe\">\n",
       "  <thead>\n",
       "    <tr style=\"text-align: right;\">\n",
       "      <th></th>\n",
       "      <th>As of</th>\n",
       "      <th>Rank</th>\n",
       "      <th>Year to Date Rank</th>\n",
       "      <th>Last Week Rank</th>\n",
       "      <th>Title</th>\n",
       "      <th>Type</th>\n",
       "      <th>Netflix Exclusive</th>\n",
       "      <th>Netflix Release Date</th>\n",
       "      <th>Days In Top 10</th>\n",
       "      <th>Viewership Score</th>\n",
       "    </tr>\n",
       "  </thead>\n",
       "  <tbody>\n",
       "    <tr>\n",
       "      <th>0</th>\n",
       "      <td>2020-04-01</td>\n",
       "      <td>1</td>\n",
       "      <td>1</td>\n",
       "      <td>1</td>\n",
       "      <td>Tiger King: Murder, Mayhem …</td>\n",
       "      <td>TV Show</td>\n",
       "      <td>Yes</td>\n",
       "      <td>Mar 20, 2020</td>\n",
       "      <td>9</td>\n",
       "      <td>90</td>\n",
       "    </tr>\n",
       "    <tr>\n",
       "      <th>1</th>\n",
       "      <td>2020-04-01</td>\n",
       "      <td>2</td>\n",
       "      <td>2</td>\n",
       "      <td>-</td>\n",
       "      <td>Ozark</td>\n",
       "      <td>TV Show</td>\n",
       "      <td>Yes</td>\n",
       "      <td>Jul 21, 2017</td>\n",
       "      <td>5</td>\n",
       "      <td>45</td>\n",
       "    </tr>\n",
       "    <tr>\n",
       "      <th>2</th>\n",
       "      <td>2020-04-01</td>\n",
       "      <td>3</td>\n",
       "      <td>3</td>\n",
       "      <td>2</td>\n",
       "      <td>All American</td>\n",
       "      <td>TV Show</td>\n",
       "      <td>NaN</td>\n",
       "      <td>Mar 28, 2019</td>\n",
       "      <td>9</td>\n",
       "      <td>76</td>\n",
       "    </tr>\n",
       "    <tr>\n",
       "      <th>3</th>\n",
       "      <td>2020-04-01</td>\n",
       "      <td>4</td>\n",
       "      <td>4</td>\n",
       "      <td>-</td>\n",
       "      <td>Blood Father</td>\n",
       "      <td>Movie</td>\n",
       "      <td>NaN</td>\n",
       "      <td>Mar 26, 2020</td>\n",
       "      <td>5</td>\n",
       "      <td>30</td>\n",
       "    </tr>\n",
       "    <tr>\n",
       "      <th>4</th>\n",
       "      <td>2020-04-01</td>\n",
       "      <td>5</td>\n",
       "      <td>5</td>\n",
       "      <td>4</td>\n",
       "      <td>The Platform</td>\n",
       "      <td>Movie</td>\n",
       "      <td>Yes</td>\n",
       "      <td>Mar 20, 2020</td>\n",
       "      <td>9</td>\n",
       "      <td>55</td>\n",
       "    </tr>\n",
       "  </tbody>\n",
       "</table>\n",
       "</div>"
      ],
      "text/plain": [
       "        As of  Rank Year to Date Rank Last Week Rank  \\\n",
       "0  2020-04-01     1                 1              1   \n",
       "1  2020-04-01     2                 2              -   \n",
       "2  2020-04-01     3                 3              2   \n",
       "3  2020-04-01     4                 4              -   \n",
       "4  2020-04-01     5                 5              4   \n",
       "\n",
       "                          Title     Type Netflix Exclusive  \\\n",
       "0  Tiger King: Murder, Mayhem …  TV Show               Yes   \n",
       "1                         Ozark  TV Show               Yes   \n",
       "2                  All American  TV Show               NaN   \n",
       "3                  Blood Father    Movie               NaN   \n",
       "4                  The Platform    Movie               Yes   \n",
       "\n",
       "  Netflix Release Date  Days In Top 10  Viewership Score  \n",
       "0         Mar 20, 2020               9                90  \n",
       "1         Jul 21, 2017               5                45  \n",
       "2         Mar 28, 2019               9                76  \n",
       "3         Mar 26, 2020               5                30  \n",
       "4         Mar 20, 2020               9                55  "
      ]
     },
     "execution_count": 3,
     "metadata": {},
     "output_type": "execute_result"
    }
   ],
   "source": [
    "# display the top 5 rows to get an idea of the data\n",
    "df.head()"
   ]
  },
  {
   "cell_type": "code",
   "execution_count": 4,
   "id": "0308119e",
   "metadata": {},
   "outputs": [
    {
     "data": {
      "text/plain": [
       "(7100, 10)"
      ]
     },
     "execution_count": 4,
     "metadata": {},
     "output_type": "execute_result"
    }
   ],
   "source": [
    "# check the initial number of rows and columns\n",
    "df.shape"
   ]
  },
  {
   "cell_type": "code",
   "execution_count": 25,
   "id": "45479a2d",
   "metadata": {},
   "outputs": [
    {
     "data": {
      "text/html": [
       "<div>\n",
       "<style scoped>\n",
       "    .dataframe tbody tr th:only-of-type {\n",
       "        vertical-align: middle;\n",
       "    }\n",
       "\n",
       "    .dataframe tbody tr th {\n",
       "        vertical-align: top;\n",
       "    }\n",
       "\n",
       "    .dataframe thead th {\n",
       "        text-align: right;\n",
       "    }\n",
       "</style>\n",
       "<table border=\"1\" class=\"dataframe\">\n",
       "  <thead>\n",
       "    <tr style=\"text-align: right;\">\n",
       "      <th></th>\n",
       "      <th>As of</th>\n",
       "      <th>Rank</th>\n",
       "      <th>Year to Date Rank</th>\n",
       "      <th>Last Week Rank</th>\n",
       "      <th>Title</th>\n",
       "      <th>Type</th>\n",
       "      <th>Netflix Exclusive</th>\n",
       "      <th>Netflix Release Date</th>\n",
       "      <th>Days In Top 10</th>\n",
       "      <th>Viewership Score</th>\n",
       "    </tr>\n",
       "  </thead>\n",
       "  <tbody>\n",
       "    <tr>\n",
       "      <th>0</th>\n",
       "      <td>2020-04-01</td>\n",
       "      <td>1</td>\n",
       "      <td>1</td>\n",
       "      <td>1</td>\n",
       "      <td>Tiger King: Murder, Mayhem …</td>\n",
       "      <td>TV Show</td>\n",
       "      <td>Yes</td>\n",
       "      <td>Mar 20, 2020</td>\n",
       "      <td>9</td>\n",
       "      <td>90</td>\n",
       "    </tr>\n",
       "    <tr>\n",
       "      <th>1</th>\n",
       "      <td>2020-04-01</td>\n",
       "      <td>2</td>\n",
       "      <td>2</td>\n",
       "      <td>-</td>\n",
       "      <td>Ozark</td>\n",
       "      <td>TV Show</td>\n",
       "      <td>Yes</td>\n",
       "      <td>Jul 21, 2017</td>\n",
       "      <td>5</td>\n",
       "      <td>45</td>\n",
       "    </tr>\n",
       "    <tr>\n",
       "      <th>2</th>\n",
       "      <td>2020-04-01</td>\n",
       "      <td>3</td>\n",
       "      <td>3</td>\n",
       "      <td>2</td>\n",
       "      <td>All American</td>\n",
       "      <td>TV Show</td>\n",
       "      <td>NaN</td>\n",
       "      <td>Mar 28, 2019</td>\n",
       "      <td>9</td>\n",
       "      <td>76</td>\n",
       "    </tr>\n",
       "    <tr>\n",
       "      <th>3</th>\n",
       "      <td>2020-04-01</td>\n",
       "      <td>4</td>\n",
       "      <td>4</td>\n",
       "      <td>-</td>\n",
       "      <td>Blood Father</td>\n",
       "      <td>Movie</td>\n",
       "      <td>NaN</td>\n",
       "      <td>Mar 26, 2020</td>\n",
       "      <td>5</td>\n",
       "      <td>30</td>\n",
       "    </tr>\n",
       "    <tr>\n",
       "      <th>4</th>\n",
       "      <td>2020-04-01</td>\n",
       "      <td>5</td>\n",
       "      <td>5</td>\n",
       "      <td>4</td>\n",
       "      <td>The Platform</td>\n",
       "      <td>Movie</td>\n",
       "      <td>Yes</td>\n",
       "      <td>Mar 20, 2020</td>\n",
       "      <td>9</td>\n",
       "      <td>55</td>\n",
       "    </tr>\n",
       "    <tr>\n",
       "      <th>...</th>\n",
       "      <td>...</td>\n",
       "      <td>...</td>\n",
       "      <td>...</td>\n",
       "      <td>...</td>\n",
       "      <td>...</td>\n",
       "      <td>...</td>\n",
       "      <td>...</td>\n",
       "      <td>...</td>\n",
       "      <td>...</td>\n",
       "      <td>...</td>\n",
       "    </tr>\n",
       "    <tr>\n",
       "      <th>7095</th>\n",
       "      <td>2022-03-11</td>\n",
       "      <td>6</td>\n",
       "      <td>5</td>\n",
       "      <td>1</td>\n",
       "      <td>Worst Roommate Ever</td>\n",
       "      <td>TV Show</td>\n",
       "      <td>Yes</td>\n",
       "      <td>Mar 1, 2022</td>\n",
       "      <td>10</td>\n",
       "      <td>81</td>\n",
       "    </tr>\n",
       "    <tr>\n",
       "      <th>7096</th>\n",
       "      <td>2022-03-11</td>\n",
       "      <td>7</td>\n",
       "      <td>7</td>\n",
       "      <td>2</td>\n",
       "      <td>Vikings: Valhalla</td>\n",
       "      <td>TV Show</td>\n",
       "      <td>Yes</td>\n",
       "      <td>Feb 25, 2022</td>\n",
       "      <td>14</td>\n",
       "      <td>100</td>\n",
       "    </tr>\n",
       "    <tr>\n",
       "      <th>7097</th>\n",
       "      <td>2022-03-11</td>\n",
       "      <td>8</td>\n",
       "      <td>8</td>\n",
       "      <td>-</td>\n",
       "      <td>Shooter</td>\n",
       "      <td>Movie</td>\n",
       "      <td>NaN</td>\n",
       "      <td>Aug 1, 2014</td>\n",
       "      <td>3</td>\n",
       "      <td>7</td>\n",
       "    </tr>\n",
       "    <tr>\n",
       "      <th>7098</th>\n",
       "      <td>2022-03-11</td>\n",
       "      <td>9</td>\n",
       "      <td>9</td>\n",
       "      <td>7</td>\n",
       "      <td>Shrek 2</td>\n",
       "      <td>Movie</td>\n",
       "      <td>NaN</td>\n",
       "      <td>Mar 1, 2022</td>\n",
       "      <td>10</td>\n",
       "      <td>33</td>\n",
       "    </tr>\n",
       "    <tr>\n",
       "      <th>7099</th>\n",
       "      <td>2022-03-11</td>\n",
       "      <td>10</td>\n",
       "      <td>10</td>\n",
       "      <td>-</td>\n",
       "      <td>Shrek</td>\n",
       "      <td>Movie</td>\n",
       "      <td>NaN</td>\n",
       "      <td>May 1, 2018</td>\n",
       "      <td>7</td>\n",
       "      <td>12</td>\n",
       "    </tr>\n",
       "  </tbody>\n",
       "</table>\n",
       "<p>7100 rows × 10 columns</p>\n",
       "</div>"
      ],
      "text/plain": [
       "           As of  Rank Year to Date Rank Last Week Rank  \\\n",
       "0     2020-04-01     1                 1              1   \n",
       "1     2020-04-01     2                 2              -   \n",
       "2     2020-04-01     3                 3              2   \n",
       "3     2020-04-01     4                 4              -   \n",
       "4     2020-04-01     5                 5              4   \n",
       "...          ...   ...               ...            ...   \n",
       "7095  2022-03-11     6                 5              1   \n",
       "7096  2022-03-11     7                 7              2   \n",
       "7097  2022-03-11     8                 8              -   \n",
       "7098  2022-03-11     9                 9              7   \n",
       "7099  2022-03-11    10                10              -   \n",
       "\n",
       "                             Title     Type Netflix Exclusive  \\\n",
       "0     Tiger King: Murder, Mayhem …  TV Show               Yes   \n",
       "1                            Ozark  TV Show               Yes   \n",
       "2                     All American  TV Show               NaN   \n",
       "3                     Blood Father    Movie               NaN   \n",
       "4                     The Platform    Movie               Yes   \n",
       "...                            ...      ...               ...   \n",
       "7095           Worst Roommate Ever  TV Show               Yes   \n",
       "7096             Vikings: Valhalla  TV Show               Yes   \n",
       "7097                       Shooter    Movie               NaN   \n",
       "7098                       Shrek 2    Movie               NaN   \n",
       "7099                         Shrek    Movie               NaN   \n",
       "\n",
       "     Netflix Release Date  Days In Top 10  Viewership Score  \n",
       "0            Mar 20, 2020               9                90  \n",
       "1            Jul 21, 2017               5                45  \n",
       "2            Mar 28, 2019               9                76  \n",
       "3            Mar 26, 2020               5                30  \n",
       "4            Mar 20, 2020               9                55  \n",
       "...                   ...             ...               ...  \n",
       "7095          Mar 1, 2022              10                81  \n",
       "7096         Feb 25, 2022              14               100  \n",
       "7097          Aug 1, 2014               3                 7  \n",
       "7098          Mar 1, 2022              10                33  \n",
       "7099          May 1, 2018               7                12  \n",
       "\n",
       "[7100 rows x 10 columns]"
      ]
     },
     "execution_count": 25,
     "metadata": {},
     "output_type": "execute_result"
    }
   ],
   "source": [
    "# check for duplicates\n",
    "df.drop_duplicates()"
   ]
  },
  {
   "cell_type": "code",
   "execution_count": 6,
   "id": "98b9b787",
   "metadata": {},
   "outputs": [
    {
     "name": "stdout",
     "output_type": "stream",
     "text": [
      "<class 'pandas.core.frame.DataFrame'>\n",
      "RangeIndex: 7100 entries, 0 to 7099\n",
      "Data columns (total 10 columns):\n",
      " #   Column                Non-Null Count  Dtype \n",
      "---  ------                --------------  ----- \n",
      " 0   As of                 7100 non-null   object\n",
      " 1   Rank                  7100 non-null   int64 \n",
      " 2   Year to Date Rank     7100 non-null   object\n",
      " 3   Last Week Rank        7100 non-null   object\n",
      " 4   Title                 7100 non-null   object\n",
      " 5   Type                  7100 non-null   object\n",
      " 6   Netflix Exclusive     4599 non-null   object\n",
      " 7   Netflix Release Date  7100 non-null   object\n",
      " 8   Days In Top 10        7100 non-null   int64 \n",
      " 9   Viewership Score      7100 non-null   int64 \n",
      "dtypes: int64(3), object(7)\n",
      "memory usage: 554.8+ KB\n"
     ]
    }
   ],
   "source": [
    "# gather information on the dataset\n",
    "#.info() returns: \n",
    "#name of the column, Non-null Count meaning how many non-null values their are in that column and Dtype\n",
    "#int64 means int value, float64 means float value, object means string value.\n",
    "df.info()"
   ]
  },
  {
   "cell_type": "markdown",
   "id": "32786d47",
   "metadata": {},
   "source": [
    "From the above output, I can see that the column \"Netflix Exclusive\" has several null values. I will note this for cleaning later. I will make a visualization for the missing data below."
   ]
  },
  {
   "cell_type": "code",
   "execution_count": 7,
   "id": "5f6d74fb",
   "metadata": {},
   "outputs": [
    {
     "data": {
      "text/plain": [
       "<Axes: >"
      ]
     },
     "execution_count": 7,
     "metadata": {},
     "output_type": "execute_result"
    },
    {
     "data": {
      "image/png": "[encoded data removed]",
      "text/plain": [
       "<Figure size 640x480 with 2 Axes>"
      ]
     },
     "metadata": {},
     "output_type": "display_data"
    }
   ],
   "source": [
    "# plot a heatmap of any missing data\n",
    "# Plot a heatmap of any missing data\n",
    "cols = df.columns\n",
    "colors = ['#000099', '#ffff00'] # specify the colors - yellow is missing. blue is not missing.\n",
    "sns.heatmap(df[cols].isnull(), cmap=sns.color_palette(colors))"
   ]
  },
  {
   "cell_type": "code",
   "execution_count": 8,
   "id": "0d0b2217",
   "metadata": {},
   "outputs": [
    {
     "name": "stdout",
     "output_type": "stream",
     "text": [
      "As of - 0%\n",
      "Rank - 0%\n",
      "Year to Date Rank - 0%\n",
      "Last Week Rank - 0%\n",
      "Title - 0%\n",
      "Type - 0%\n",
      "Netflix Exclusive - 35%\n",
      "Netflix Release Date - 0%\n",
      "Days In Top 10 - 0%\n",
      "Viewership Score - 0%\n"
     ]
    }
   ],
   "source": [
    "# determine what percentage of data is missing \n",
    "for col in df.columns:\n",
    "    pct_missing = np.mean(df[col].isnull())\n",
    "    print('{} - {}%'.format(col, round(pct_missing*100)))"
   ]
  },
  {
   "cell_type": "code",
   "execution_count": 9,
   "id": "7ab990ef",
   "metadata": {},
   "outputs": [
    {
     "data": {
      "text/plain": [
       "Yes    4599\n",
       "Name: Netflix Exclusive, dtype: int64"
      ]
     },
     "execution_count": 9,
     "metadata": {},
     "output_type": "execute_result"
    }
   ],
   "source": [
    "# explore the data in the column with missing data\n",
    "df[\"Netflix Exclusive\"].value_counts()"
   ]
  },
  {
   "cell_type": "markdown",
   "id": "f8d053c3",
   "metadata": {},
   "source": [
    "Luckily, this field will not be crucial to my data analysis, so I can move forward in examining the rest of the data."
   ]
  },
  {
   "cell_type": "code",
   "execution_count": 10,
   "id": "45673e85",
   "metadata": {
    "scrolled": false
   },
   "outputs": [
    {
     "data": {
      "text/html": [
       "<div>\n",
       "<style scoped>\n",
       "    .dataframe tbody tr th:only-of-type {\n",
       "        vertical-align: middle;\n",
       "    }\n",
       "\n",
       "    .dataframe tbody tr th {\n",
       "        vertical-align: top;\n",
       "    }\n",
       "\n",
       "    .dataframe thead th {\n",
       "        text-align: right;\n",
       "    }\n",
       "</style>\n",
       "<table border=\"1\" class=\"dataframe\">\n",
       "  <thead>\n",
       "    <tr style=\"text-align: right;\">\n",
       "      <th></th>\n",
       "      <th>As of</th>\n",
       "      <th>Rank</th>\n",
       "      <th>Year to Date Rank</th>\n",
       "      <th>Last Week Rank</th>\n",
       "      <th>Title</th>\n",
       "      <th>Type</th>\n",
       "      <th>Netflix Exclusive</th>\n",
       "      <th>Netflix Release Date</th>\n",
       "      <th>Days In Top 10</th>\n",
       "      <th>Viewership Score</th>\n",
       "    </tr>\n",
       "  </thead>\n",
       "  <tbody>\n",
       "    <tr>\n",
       "      <th>7037</th>\n",
       "      <td>2022-03-05</td>\n",
       "      <td>8</td>\n",
       "      <td>7</td>\n",
       "      <td>-</td>\n",
       "      <td>Shrek 2</td>\n",
       "      <td>Movie</td>\n",
       "      <td>NaN</td>\n",
       "      <td>Mar 1, 2022</td>\n",
       "      <td>4</td>\n",
       "      <td>16</td>\n",
       "    </tr>\n",
       "    <tr>\n",
       "      <th>6486</th>\n",
       "      <td>2022-01-09</td>\n",
       "      <td>7</td>\n",
       "      <td>7</td>\n",
       "      <td>-</td>\n",
       "      <td>The Longest Yard</td>\n",
       "      <td>Movie</td>\n",
       "      <td>NaN</td>\n",
       "      <td>Apr 1, 2015</td>\n",
       "      <td>5</td>\n",
       "      <td>19</td>\n",
       "    </tr>\n",
       "    <tr>\n",
       "      <th>2045</th>\n",
       "      <td>2020-10-22</td>\n",
       "      <td>6</td>\n",
       "      <td>9</td>\n",
       "      <td>-</td>\n",
       "      <td>Tremors: Shrieker Island</td>\n",
       "      <td>Movie</td>\n",
       "      <td>NaN</td>\n",
       "      <td>Oct 20, 2020</td>\n",
       "      <td>2</td>\n",
       "      <td>7</td>\n",
       "    </tr>\n",
       "  </tbody>\n",
       "</table>\n",
       "</div>"
      ],
      "text/plain": [
       "           As of  Rank Year to Date Rank Last Week Rank  \\\n",
       "7037  2022-03-05     8                 7              -   \n",
       "6486  2022-01-09     7                 7              -   \n",
       "2045  2020-10-22     6                 9              -   \n",
       "\n",
       "                         Title   Type Netflix Exclusive Netflix Release Date  \\\n",
       "7037                   Shrek 2  Movie               NaN          Mar 1, 2022   \n",
       "6486          The Longest Yard  Movie               NaN          Apr 1, 2015   \n",
       "2045  Tremors: Shrieker Island  Movie               NaN         Oct 20, 2020   \n",
       "\n",
       "      Days In Top 10  Viewership Score  \n",
       "7037               4                16  \n",
       "6486               5                19  \n",
       "2045               2                 7  "
      ]
     },
     "execution_count": 10,
     "metadata": {},
     "output_type": "execute_result"
    }
   ],
   "source": [
    "df[df['Netflix Exclusive'].isna()].sample(3)"
   ]
  },
  {
   "cell_type": "code",
   "execution_count": 11,
   "id": "50602255",
   "metadata": {},
   "outputs": [
    {
     "data": {
      "text/plain": [
       "Cocomelon                       428\n",
       "Ozark                            85\n",
       "Cobra Kai                        81\n",
       "Manifest                         80\n",
       "The Queenâs Gambit             73\n",
       "                               ... \n",
       "The Office                        1\n",
       "Animals on the Loose: A You…      1\n",
       "Dark                              1\n",
       "The Secret Life of Pets 2         1\n",
       "Step Up Revolution                1\n",
       "Name: Title, Length: 645, dtype: int64"
      ]
     },
     "execution_count": 11,
     "metadata": {},
     "output_type": "execute_result"
    }
   ],
   "source": [
    "# what were the counts for each title?\n",
    "df['Title'].value_counts()"
   ]
  },
  {
   "cell_type": "code",
   "execution_count": 48,
   "id": "b1f82248",
   "metadata": {
    "scrolled": true
   },
   "outputs": [],
   "source": [
    "# The Queen's Gambit is displaying weird. I will fix\n",
    "# df['Title'].replace('The Queenâs Gambit', \"The Queen's Gambit\")"
   ]
  },
  {
   "cell_type": "code",
   "execution_count": 12,
   "id": "de3b14d6",
   "metadata": {},
   "outputs": [
    {
     "data": {
      "text/plain": [
       "1        45\n",
       "11       54\n",
       "21       63\n",
       "31       72\n",
       "41       81\n",
       "       ... \n",
       "6954    524\n",
       "6967    527\n",
       "6979    528\n",
       "6986    532\n",
       "6996    536\n",
       "Name: Viewership Score, Length: 85, dtype: int64"
      ]
     },
     "execution_count": 12,
     "metadata": {},
     "output_type": "execute_result"
    }
   ],
   "source": [
    "ozark_vrwshp = df.loc[df['Title'] == 'Ozark', 'Viewership Score']\n",
    "ozark_vrwshp"
   ]
  },
  {
   "cell_type": "code",
   "execution_count": 13,
   "id": "afc7b810",
   "metadata": {},
   "outputs": [
    {
     "data": {
      "text/plain": [
       "1       2020-04-01\n",
       "11      2020-04-02\n",
       "21      2020-04-03\n",
       "31      2020-04-04\n",
       "41      2020-04-05\n",
       "           ...    \n",
       "6954    2022-02-25\n",
       "6967    2022-02-26\n",
       "6979    2022-02-27\n",
       "6986    2022-02-28\n",
       "6996    2022-03-01\n",
       "Name: As of, Length: 85, dtype: object"
      ]
     },
     "execution_count": 13,
     "metadata": {},
     "output_type": "execute_result"
    }
   ],
   "source": [
    "ozark_date = df.loc[df['Title'] == 'Ozark', 'As of']\n",
    "ozark_date"
   ]
  },
  {
   "cell_type": "code",
   "execution_count": 14,
   "id": "4c36c77e",
   "metadata": {},
   "outputs": [],
   "source": [
    "# convert objects to dataframes so I can join them\n",
    "ozark_vrwshp = pd.DataFrame(ozark_vrwshp)\n",
    "ozark_date = pd.DataFrame(ozark_date)"
   ]
  },
  {
   "cell_type": "code",
   "execution_count": 15,
   "id": "9172ce97",
   "metadata": {},
   "outputs": [
    {
     "data": {
      "text/html": [
       "<div>\n",
       "<style scoped>\n",
       "    .dataframe tbody tr th:only-of-type {\n",
       "        vertical-align: middle;\n",
       "    }\n",
       "\n",
       "    .dataframe tbody tr th {\n",
       "        vertical-align: top;\n",
       "    }\n",
       "\n",
       "    .dataframe thead th {\n",
       "        text-align: right;\n",
       "    }\n",
       "</style>\n",
       "<table border=\"1\" class=\"dataframe\">\n",
       "  <thead>\n",
       "    <tr style=\"text-align: right;\">\n",
       "      <th></th>\n",
       "      <th>Viewership Score</th>\n",
       "      <th>As of</th>\n",
       "    </tr>\n",
       "  </thead>\n",
       "  <tbody>\n",
       "    <tr>\n",
       "      <th>1</th>\n",
       "      <td>45</td>\n",
       "      <td>2020-04-01</td>\n",
       "    </tr>\n",
       "    <tr>\n",
       "      <th>11</th>\n",
       "      <td>54</td>\n",
       "      <td>2020-04-02</td>\n",
       "    </tr>\n",
       "    <tr>\n",
       "      <th>21</th>\n",
       "      <td>63</td>\n",
       "      <td>2020-04-03</td>\n",
       "    </tr>\n",
       "    <tr>\n",
       "      <th>31</th>\n",
       "      <td>72</td>\n",
       "      <td>2020-04-04</td>\n",
       "    </tr>\n",
       "    <tr>\n",
       "      <th>41</th>\n",
       "      <td>81</td>\n",
       "      <td>2020-04-05</td>\n",
       "    </tr>\n",
       "    <tr>\n",
       "      <th>...</th>\n",
       "      <td>...</td>\n",
       "      <td>...</td>\n",
       "    </tr>\n",
       "    <tr>\n",
       "      <th>6954</th>\n",
       "      <td>524</td>\n",
       "      <td>2022-02-25</td>\n",
       "    </tr>\n",
       "    <tr>\n",
       "      <th>6967</th>\n",
       "      <td>527</td>\n",
       "      <td>2022-02-26</td>\n",
       "    </tr>\n",
       "    <tr>\n",
       "      <th>6979</th>\n",
       "      <td>528</td>\n",
       "      <td>2022-02-27</td>\n",
       "    </tr>\n",
       "    <tr>\n",
       "      <th>6986</th>\n",
       "      <td>532</td>\n",
       "      <td>2022-02-28</td>\n",
       "    </tr>\n",
       "    <tr>\n",
       "      <th>6996</th>\n",
       "      <td>536</td>\n",
       "      <td>2022-03-01</td>\n",
       "    </tr>\n",
       "  </tbody>\n",
       "</table>\n",
       "<p>85 rows × 2 columns</p>\n",
       "</div>"
      ],
      "text/plain": [
       "      Viewership Score       As of\n",
       "1                   45  2020-04-01\n",
       "11                  54  2020-04-02\n",
       "21                  63  2020-04-03\n",
       "31                  72  2020-04-04\n",
       "41                  81  2020-04-05\n",
       "...                ...         ...\n",
       "6954               524  2022-02-25\n",
       "6967               527  2022-02-26\n",
       "6979               528  2022-02-27\n",
       "6986               532  2022-02-28\n",
       "6996               536  2022-03-01\n",
       "\n",
       "[85 rows x 2 columns]"
      ]
     },
     "execution_count": 15,
     "metadata": {},
     "output_type": "execute_result"
    }
   ],
   "source": [
    "# join the two tables\n",
    "ozark_trend = ozark_vrwshp.join(ozark_date)\n",
    "ozark_trend"
   ]
  },
  {
   "cell_type": "code",
   "execution_count": 16,
   "id": "a3ee1b4a",
   "metadata": {},
   "outputs": [
    {
     "data": {
      "text/html": [
       "<div>\n",
       "<style scoped>\n",
       "    .dataframe tbody tr th:only-of-type {\n",
       "        vertical-align: middle;\n",
       "    }\n",
       "\n",
       "    .dataframe tbody tr th {\n",
       "        vertical-align: top;\n",
       "    }\n",
       "\n",
       "    .dataframe thead th {\n",
       "        text-align: right;\n",
       "    }\n",
       "</style>\n",
       "<table border=\"1\" class=\"dataframe\">\n",
       "  <thead>\n",
       "    <tr style=\"text-align: right;\">\n",
       "      <th></th>\n",
       "      <th>Rank</th>\n",
       "      <th>Days In Top 10</th>\n",
       "      <th>Viewership Score</th>\n",
       "    </tr>\n",
       "  </thead>\n",
       "  <tbody>\n",
       "    <tr>\n",
       "      <th>count</th>\n",
       "      <td>7100.000000</td>\n",
       "      <td>7100.000000</td>\n",
       "      <td>7100.000000</td>\n",
       "    </tr>\n",
       "    <tr>\n",
       "      <th>mean</th>\n",
       "      <td>5.500000</td>\n",
       "      <td>24.123662</td>\n",
       "      <td>122.790141</td>\n",
       "    </tr>\n",
       "    <tr>\n",
       "      <th>std</th>\n",
       "      <td>2.872484</td>\n",
       "      <td>58.473789</td>\n",
       "      <td>213.861642</td>\n",
       "    </tr>\n",
       "    <tr>\n",
       "      <th>min</th>\n",
       "      <td>1.000000</td>\n",
       "      <td>1.000000</td>\n",
       "      <td>1.000000</td>\n",
       "    </tr>\n",
       "    <tr>\n",
       "      <th>25%</th>\n",
       "      <td>3.000000</td>\n",
       "      <td>3.000000</td>\n",
       "      <td>19.000000</td>\n",
       "    </tr>\n",
       "    <tr>\n",
       "      <th>50%</th>\n",
       "      <td>5.500000</td>\n",
       "      <td>7.000000</td>\n",
       "      <td>50.000000</td>\n",
       "    </tr>\n",
       "    <tr>\n",
       "      <th>75%</th>\n",
       "      <td>8.000000</td>\n",
       "      <td>18.000000</td>\n",
       "      <td>128.000000</td>\n",
       "    </tr>\n",
       "    <tr>\n",
       "      <th>max</th>\n",
       "      <td>10.000000</td>\n",
       "      <td>428.000000</td>\n",
       "      <td>1474.000000</td>\n",
       "    </tr>\n",
       "  </tbody>\n",
       "</table>\n",
       "</div>"
      ],
      "text/plain": [
       "              Rank  Days In Top 10  Viewership Score\n",
       "count  7100.000000     7100.000000       7100.000000\n",
       "mean      5.500000       24.123662        122.790141\n",
       "std       2.872484       58.473789        213.861642\n",
       "min       1.000000        1.000000          1.000000\n",
       "25%       3.000000        3.000000         19.000000\n",
       "50%       5.500000        7.000000         50.000000\n",
       "75%       8.000000       18.000000        128.000000\n",
       "max      10.000000      428.000000       1474.000000"
      ]
     },
     "execution_count": 16,
     "metadata": {},
     "output_type": "execute_result"
    }
   ],
   "source": [
    "# get data for quantative data\n",
    "df.describe()"
   ]
  },
  {
   "cell_type": "code",
   "execution_count": 27,
   "id": "5f9af4ef",
   "metadata": {},
   "outputs": [
    {
     "data": {
      "text/html": [
       "<div>\n",
       "<style scoped>\n",
       "    .dataframe tbody tr th:only-of-type {\n",
       "        vertical-align: middle;\n",
       "    }\n",
       "\n",
       "    .dataframe tbody tr th {\n",
       "        vertical-align: top;\n",
       "    }\n",
       "\n",
       "    .dataframe thead th {\n",
       "        text-align: right;\n",
       "    }\n",
       "</style>\n",
       "<table border=\"1\" class=\"dataframe\">\n",
       "  <thead>\n",
       "    <tr style=\"text-align: right;\">\n",
       "      <th></th>\n",
       "      <th>As of</th>\n",
       "      <th>Year to Date Rank</th>\n",
       "      <th>Last Week Rank</th>\n",
       "      <th>Title</th>\n",
       "      <th>Type</th>\n",
       "      <th>Netflix Exclusive</th>\n",
       "      <th>Netflix Release Date</th>\n",
       "    </tr>\n",
       "  </thead>\n",
       "  <tbody>\n",
       "    <tr>\n",
       "      <th>count</th>\n",
       "      <td>7100</td>\n",
       "      <td>7100</td>\n",
       "      <td>7100</td>\n",
       "      <td>7100</td>\n",
       "      <td>7100</td>\n",
       "      <td>4599</td>\n",
       "      <td>7100</td>\n",
       "    </tr>\n",
       "    <tr>\n",
       "      <th>unique</th>\n",
       "      <td>710</td>\n",
       "      <td>11</td>\n",
       "      <td>11</td>\n",
       "      <td>645</td>\n",
       "      <td>4</td>\n",
       "      <td>1</td>\n",
       "      <td>414</td>\n",
       "    </tr>\n",
       "    <tr>\n",
       "      <th>top</th>\n",
       "      <td>2020-04-01</td>\n",
       "      <td>-</td>\n",
       "      <td>-</td>\n",
       "      <td>Cocomelon</td>\n",
       "      <td>TV Show</td>\n",
       "      <td>Yes</td>\n",
       "      <td>Jun 1, 2020</td>\n",
       "    </tr>\n",
       "    <tr>\n",
       "      <th>freq</th>\n",
       "      <td>10</td>\n",
       "      <td>859</td>\n",
       "      <td>3968</td>\n",
       "      <td>428</td>\n",
       "      <td>4446</td>\n",
       "      <td>4599</td>\n",
       "      <td>438</td>\n",
       "    </tr>\n",
       "  </tbody>\n",
       "</table>\n",
       "</div>"
      ],
      "text/plain": [
       "             As of Year to Date Rank Last Week Rank      Title     Type  \\\n",
       "count         7100              7100           7100       7100     7100   \n",
       "unique         710                11             11        645        4   \n",
       "top     2020-04-01                 -              -  Cocomelon  TV Show   \n",
       "freq            10               859           3968        428     4446   \n",
       "\n",
       "       Netflix Exclusive Netflix Release Date  \n",
       "count               4599                 7100  \n",
       "unique                 1                  414  \n",
       "top                  Yes          Jun 1, 2020  \n",
       "freq                4599                  438  "
      ]
     },
     "execution_count": 27,
     "metadata": {},
     "output_type": "execute_result"
    }
   ],
   "source": [
    "# now for qualitative data\n",
    "df.describe(include='object')"
   ]
  },
  {
   "cell_type": "code",
   "execution_count": 17,
   "id": "af985b7d",
   "metadata": {},
   "outputs": [],
   "source": [
    "# aggregate some of the above by type \n",
    "type_vs = df[['Type','Viewership Score']].groupby('Type').mean()"
   ]
  },
  {
   "cell_type": "code",
   "execution_count": 18,
   "id": "704101c8",
   "metadata": {},
   "outputs": [],
   "source": [
    "type_rank = df[['Type','Rank']].groupby('Type').mean()"
   ]
  },
  {
   "cell_type": "code",
   "execution_count": 19,
   "id": "3f8366f4",
   "metadata": {},
   "outputs": [],
   "source": [
    "type_topten = df[['Type','Days In Top 10']].groupby('Type').mean()"
   ]
  },
  {
   "cell_type": "code",
   "execution_count": 20,
   "id": "dfbe37a1",
   "metadata": {},
   "outputs": [],
   "source": [
    "# join the dfs above into one\n",
    "df1 = type_vs.join(type_rank)"
   ]
  },
  {
   "cell_type": "code",
   "execution_count": 21,
   "id": "428b5559",
   "metadata": {
    "scrolled": true
   },
   "outputs": [
    {
     "data": {
      "text/html": [
       "<div>\n",
       "<style scoped>\n",
       "    .dataframe tbody tr th:only-of-type {\n",
       "        vertical-align: middle;\n",
       "    }\n",
       "\n",
       "    .dataframe tbody tr th {\n",
       "        vertical-align: top;\n",
       "    }\n",
       "\n",
       "    .dataframe thead th {\n",
       "        text-align: right;\n",
       "    }\n",
       "</style>\n",
       "<table border=\"1\" class=\"dataframe\">\n",
       "  <thead>\n",
       "    <tr style=\"text-align: right;\">\n",
       "      <th></th>\n",
       "      <th>Viewership Score</th>\n",
       "      <th>Rank</th>\n",
       "      <th>Days In Top 10</th>\n",
       "    </tr>\n",
       "    <tr>\n",
       "      <th>Type</th>\n",
       "      <th></th>\n",
       "      <th></th>\n",
       "      <th></th>\n",
       "    </tr>\n",
       "  </thead>\n",
       "  <tbody>\n",
       "    <tr>\n",
       "      <th>Concert/Perf…</th>\n",
       "      <td>12.000000</td>\n",
       "      <td>3.500000</td>\n",
       "      <td>1.500000</td>\n",
       "    </tr>\n",
       "    <tr>\n",
       "      <th>Movie</th>\n",
       "      <td>38.948679</td>\n",
       "      <td>5.635006</td>\n",
       "      <td>5.990425</td>\n",
       "    </tr>\n",
       "    <tr>\n",
       "      <th>Stand-Up Comedy</th>\n",
       "      <td>38.585366</td>\n",
       "      <td>5.439024</td>\n",
       "      <td>5.609756</td>\n",
       "    </tr>\n",
       "    <tr>\n",
       "      <th>TV Show</th>\n",
       "      <td>172.854026</td>\n",
       "      <td>5.422177</td>\n",
       "      <td>34.953666</td>\n",
       "    </tr>\n",
       "  </tbody>\n",
       "</table>\n",
       "</div>"
      ],
      "text/plain": [
       "                 Viewership Score      Rank  Days In Top 10\n",
       "Type                                                       \n",
       "Concert/Perf…           12.000000  3.500000        1.500000\n",
       "Movie                   38.948679  5.635006        5.990425\n",
       "Stand-Up Comedy         38.585366  5.439024        5.609756\n",
       "TV Show                172.854026  5.422177       34.953666"
      ]
     },
     "execution_count": 21,
     "metadata": {},
     "output_type": "execute_result"
    }
   ],
   "source": [
    "# display the average value of each column for each Type\n",
    "df1 = df1.join(type_topten)\n",
    "df1"
   ]
  },
  {
   "cell_type": "markdown",
   "id": "d01f4f1a",
   "metadata": {},
   "source": [
    "From the above output, I can tell that, on average, TV shows far outlast other types of content (movies, stand-up comedy specials, and concert/performances) in the top ten list. I will make a visualization."
   ]
  },
  {
   "cell_type": "code",
   "execution_count": 22,
   "id": "a88a317d",
   "metadata": {},
   "outputs": [
    {
     "data": {
      "text/html": [
       "<div>\n",
       "<style scoped>\n",
       "    .dataframe tbody tr th:only-of-type {\n",
       "        vertical-align: middle;\n",
       "    }\n",
       "\n",
       "    .dataframe tbody tr th {\n",
       "        vertical-align: top;\n",
       "    }\n",
       "\n",
       "    .dataframe thead th {\n",
       "        text-align: right;\n",
       "    }\n",
       "</style>\n",
       "<table border=\"1\" class=\"dataframe\">\n",
       "  <thead>\n",
       "    <tr style=\"text-align: right;\">\n",
       "      <th></th>\n",
       "      <th>Viewership Score</th>\n",
       "      <th>Rank</th>\n",
       "      <th>Days In Top 10</th>\n",
       "      <th>Type</th>\n",
       "    </tr>\n",
       "    <tr>\n",
       "      <th>Type</th>\n",
       "      <th></th>\n",
       "      <th></th>\n",
       "      <th></th>\n",
       "      <th></th>\n",
       "    </tr>\n",
       "  </thead>\n",
       "  <tbody>\n",
       "    <tr>\n",
       "      <th>Concert/Perf…</th>\n",
       "      <td>12.000000</td>\n",
       "      <td>3.500000</td>\n",
       "      <td>1.500000</td>\n",
       "      <td>Concert/Perf…</td>\n",
       "    </tr>\n",
       "    <tr>\n",
       "      <th>Movie</th>\n",
       "      <td>38.948679</td>\n",
       "      <td>5.635006</td>\n",
       "      <td>5.990425</td>\n",
       "      <td>Movie</td>\n",
       "    </tr>\n",
       "    <tr>\n",
       "      <th>Stand-Up Comedy</th>\n",
       "      <td>38.585366</td>\n",
       "      <td>5.439024</td>\n",
       "      <td>5.609756</td>\n",
       "      <td>Stand-Up Comedy</td>\n",
       "    </tr>\n",
       "    <tr>\n",
       "      <th>TV Show</th>\n",
       "      <td>172.854026</td>\n",
       "      <td>5.422177</td>\n",
       "      <td>34.953666</td>\n",
       "      <td>TV Show</td>\n",
       "    </tr>\n",
       "  </tbody>\n",
       "</table>\n",
       "</div>"
      ],
      "text/plain": [
       "                 Viewership Score      Rank  Days In Top 10             Type\n",
       "Type                                                                        \n",
       "Concert/Perf…           12.000000  3.500000        1.500000    Concert/Perf…\n",
       "Movie                   38.948679  5.635006        5.990425            Movie\n",
       "Stand-Up Comedy         38.585366  5.439024        5.609756  Stand-Up Comedy\n",
       "TV Show                172.854026  5.422177       34.953666          TV Show"
      ]
     },
     "execution_count": 22,
     "metadata": {},
     "output_type": "execute_result"
    }
   ],
   "source": [
    "# convert index (containing Type values) to a column so we can use it in the plot below\n",
    "df1['Type']=df1.index\n",
    "df1"
   ]
  },
  {
   "cell_type": "markdown",
   "id": "51f1a61e",
   "metadata": {},
   "source": [
    "How long did each type of content stay in the top ten list (on average)?"
   ]
  },
  {
   "cell_type": "code",
   "execution_count": 23,
   "id": "cc1f94a0",
   "metadata": {
    "scrolled": true
   },
   "outputs": [
    {
     "data": {
      "text/plain": [
       "[Text(0.5, 1.0, 'Average Days In Top 10 by Type of Content')]"
      ]
     },
     "execution_count": 23,
     "metadata": {},
     "output_type": "execute_result"
    },
    {
     "data": {
      "image/png": "[encoded data removed]",
      "text/plain": [
       "<Figure size 640x480 with 1 Axes>"
      ]
     },
     "metadata": {},
     "output_type": "display_data"
    }
   ],
   "source": [
    "sns.barplot(data=df1, x='Type', y='Days In Top 10').set(title=\"Average Days In Top 10 by Type of Content\")"
   ]
  },
  {
   "cell_type": "code",
   "execution_count": 24,
   "id": "7f9bd075",
   "metadata": {},
   "outputs": [
    {
     "data": {
      "text/plain": [
       "[Text(0.5, 1.0, 'Viewership Score and Type of Content')]"
      ]
     },
     "execution_count": 24,
     "metadata": {},
     "output_type": "execute_result"
    },
    {
     "data": {
      "image/png": "[encoded data removed]",
      "text/plain": [
       "<Figure size 1000x700 with 1 Axes>"
      ]
     },
     "metadata": {},
     "output_type": "display_data"
    }
   ],
   "source": [
    "# look at another feature\n",
    "fig = plt.figure(figsize =(10, 7))\n",
    "sns.set_style(\"whitegrid\")\n",
    "sns.boxplot(x='Type', y='Viewership Score', data=df).set(title=\"Viewership Score and Type of Content\")"
   ]
  },
  {
   "cell_type": "markdown",
   "id": "379c7ec0",
   "metadata": {},
   "source": [
    "Which TV shows stayed the longest in the top ten?"
   ]
  },
  {
   "cell_type": "code",
   "execution_count": 32,
   "id": "7217d579",
   "metadata": {},
   "outputs": [],
   "source": [
    "tv_shows = df[df['Type'] == 'TV Show']\n",
    "tv_shows = tv_shows.groupby(['Title'])['Days In Top 10'].max().sort_values(ascending=False).head(10)"
   ]
  },
  {
   "cell_type": "code",
   "execution_count": 36,
   "id": "c00d599c",
   "metadata": {},
   "outputs": [
    {
     "data": {
      "text/html": [
       "<div>\n",
       "<style scoped>\n",
       "    .dataframe tbody tr th:only-of-type {\n",
       "        vertical-align: middle;\n",
       "    }\n",
       "\n",
       "    .dataframe tbody tr th {\n",
       "        vertical-align: top;\n",
       "    }\n",
       "\n",
       "    .dataframe thead th {\n",
       "        text-align: right;\n",
       "    }\n",
       "</style>\n",
       "<table border=\"1\" class=\"dataframe\">\n",
       "  <thead>\n",
       "    <tr style=\"text-align: right;\">\n",
       "      <th></th>\n",
       "      <th>Days In Top 10</th>\n",
       "    </tr>\n",
       "    <tr>\n",
       "      <th>Title</th>\n",
       "      <th></th>\n",
       "    </tr>\n",
       "  </thead>\n",
       "  <tbody>\n",
       "    <tr>\n",
       "      <th>Cocomelon</th>\n",
       "      <td>428</td>\n",
       "    </tr>\n",
       "    <tr>\n",
       "      <th>Ozark</th>\n",
       "      <td>89</td>\n",
       "    </tr>\n",
       "    <tr>\n",
       "      <th>Cobra Kai</th>\n",
       "      <td>81</td>\n",
       "    </tr>\n",
       "    <tr>\n",
       "      <th>Manifest</th>\n",
       "      <td>80</td>\n",
       "    </tr>\n",
       "    <tr>\n",
       "      <th>The Queenâs Gambit</th>\n",
       "      <td>73</td>\n",
       "    </tr>\n",
       "    <tr>\n",
       "      <th>Outer Banks</th>\n",
       "      <td>72</td>\n",
       "    </tr>\n",
       "    <tr>\n",
       "      <th>Squid Game</th>\n",
       "      <td>66</td>\n",
       "    </tr>\n",
       "    <tr>\n",
       "      <th>All American</th>\n",
       "      <td>66</td>\n",
       "    </tr>\n",
       "    <tr>\n",
       "      <th>Bridgerton</th>\n",
       "      <td>58</td>\n",
       "    </tr>\n",
       "    <tr>\n",
       "      <th>Lucifer</th>\n",
       "      <td>57</td>\n",
       "    </tr>\n",
       "  </tbody>\n",
       "</table>\n",
       "</div>"
      ],
      "text/plain": [
       "                      Days In Top 10\n",
       "Title                               \n",
       "Cocomelon                        428\n",
       "Ozark                             89\n",
       "Cobra Kai                         81\n",
       "Manifest                          80\n",
       "The Queenâs Gambit              73\n",
       "Outer Banks                       72\n",
       "Squid Game                        66\n",
       "All American                      66\n",
       "Bridgerton                        58\n",
       "Lucifer                           57"
      ]
     },
     "execution_count": 36,
     "metadata": {},
     "output_type": "execute_result"
    }
   ],
   "source": [
    "tv_shows = pd.DataFrame(tv_shows)\n",
    "tv_shows"
   ]
  },
  {
   "cell_type": "code",
   "execution_count": 39,
   "id": "67c4fa3b",
   "metadata": {},
   "outputs": [
    {
     "data": {
      "text/html": [
       "<div>\n",
       "<style scoped>\n",
       "    .dataframe tbody tr th:only-of-type {\n",
       "        vertical-align: middle;\n",
       "    }\n",
       "\n",
       "    .dataframe tbody tr th {\n",
       "        vertical-align: top;\n",
       "    }\n",
       "\n",
       "    .dataframe thead th {\n",
       "        text-align: right;\n",
       "    }\n",
       "</style>\n",
       "<table border=\"1\" class=\"dataframe\">\n",
       "  <thead>\n",
       "    <tr style=\"text-align: right;\">\n",
       "      <th></th>\n",
       "      <th>Days In Top 10</th>\n",
       "      <th>Title</th>\n",
       "    </tr>\n",
       "    <tr>\n",
       "      <th>Title</th>\n",
       "      <th></th>\n",
       "      <th></th>\n",
       "    </tr>\n",
       "  </thead>\n",
       "  <tbody>\n",
       "    <tr>\n",
       "      <th>Cocomelon</th>\n",
       "      <td>428</td>\n",
       "      <td>Cocomelon</td>\n",
       "    </tr>\n",
       "    <tr>\n",
       "      <th>Ozark</th>\n",
       "      <td>89</td>\n",
       "      <td>Ozark</td>\n",
       "    </tr>\n",
       "    <tr>\n",
       "      <th>Cobra Kai</th>\n",
       "      <td>81</td>\n",
       "      <td>Cobra Kai</td>\n",
       "    </tr>\n",
       "    <tr>\n",
       "      <th>Manifest</th>\n",
       "      <td>80</td>\n",
       "      <td>Manifest</td>\n",
       "    </tr>\n",
       "    <tr>\n",
       "      <th>The Queenâs Gambit</th>\n",
       "      <td>73</td>\n",
       "      <td>The Queenâs Gambit</td>\n",
       "    </tr>\n",
       "    <tr>\n",
       "      <th>Outer Banks</th>\n",
       "      <td>72</td>\n",
       "      <td>Outer Banks</td>\n",
       "    </tr>\n",
       "    <tr>\n",
       "      <th>Squid Game</th>\n",
       "      <td>66</td>\n",
       "      <td>Squid Game</td>\n",
       "    </tr>\n",
       "    <tr>\n",
       "      <th>All American</th>\n",
       "      <td>66</td>\n",
       "      <td>All American</td>\n",
       "    </tr>\n",
       "    <tr>\n",
       "      <th>Bridgerton</th>\n",
       "      <td>58</td>\n",
       "      <td>Bridgerton</td>\n",
       "    </tr>\n",
       "    <tr>\n",
       "      <th>Lucifer</th>\n",
       "      <td>57</td>\n",
       "      <td>Lucifer</td>\n",
       "    </tr>\n",
       "  </tbody>\n",
       "</table>\n",
       "</div>"
      ],
      "text/plain": [
       "                      Days In Top 10                 Title\n",
       "Title                                                     \n",
       "Cocomelon                        428             Cocomelon\n",
       "Ozark                             89                 Ozark\n",
       "Cobra Kai                         81             Cobra Kai\n",
       "Manifest                          80              Manifest\n",
       "The Queenâs Gambit              73  The Queenâs Gambit\n",
       "Outer Banks                       72           Outer Banks\n",
       "Squid Game                        66            Squid Game\n",
       "All American                      66          All American\n",
       "Bridgerton                        58            Bridgerton\n",
       "Lucifer                           57               Lucifer"
      ]
     },
     "execution_count": 39,
     "metadata": {},
     "output_type": "execute_result"
    }
   ],
   "source": [
    "# convert index (containing Type values) to a column so we can use it in the plot below\n",
    "tv_shows['Title']=tv_shows.index\n",
    "tv_shows"
   ]
  },
  {
   "cell_type": "code",
   "execution_count": 46,
   "id": "5d624556",
   "metadata": {},
   "outputs": [
    {
     "name": "stderr",
     "output_type": "stream",
     "text": [
      "C:\\Users\\johan\\anaconda3\\lib\\site-packages\\IPython\\core\\pylabtools.py:152: UserWarning: Glyph 128 (\\x80) missing from current font.\n",
      "  fig.canvas.print_figure(bytes_io, **kw)\n",
      "C:\\Users\\johan\\anaconda3\\lib\\site-packages\\IPython\\core\\pylabtools.py:152: UserWarning: Glyph 153 (\\x99) missing from current font.\n",
      "  fig.canvas.print_figure(bytes_io, **kw)\n"
     ]
    },
    {
     "data": {
      "image/png": "[encoded data removed]",
      "text/plain": [
       "<Figure size 2000x1500 with 1 Axes>"
      ]
     },
     "metadata": {},
     "output_type": "display_data"
    }
   ],
   "source": [
    "plt.figure(figsize=(20,15))\n",
    "sns.barplot(data=tv_shows, x='Title', y='Days In Top 10').set(title=\"Top 10 TV Shows vs Total Number of Days in Top Ten List\")\n",
    "plt.show()"
   ]
  },
  {
   "cell_type": "code",
   "execution_count": null,
   "id": "d09dd406",
   "metadata": {},
   "outputs": [],
   "source": []
  }
 ],
 "metadata": {
  "kernelspec": {
   "display_name": "Python 3 (ipykernel)",
   "language": "python",
   "name": "python3"
  },
  "language_info": {
   "codemirror_mode": {
    "name": "ipython",
    "version": 3
   },
   "file_extension": ".py",
   "mimetype": "text/x-python",
   "name": "python",
   "nbconvert_exporter": "python",
   "pygments_lexer": "ipython3",
   "version": "3.10.9"
  }
 },
 "nbformat": 4,
 "nbformat_minor": 5
}
